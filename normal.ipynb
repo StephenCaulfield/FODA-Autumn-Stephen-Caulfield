{
 "cells": [
  {
   "cell_type": "markdown",
   "id": "7ba2612d",
   "metadata": {},
   "source": [
    "<h1><b>FUNDAMENTALS OF DATA ANALYTICS PROJECT: NORMAL DISTRIBUTION</b></h1>"
   ]
  },
  {
   "cell_type": "markdown",
   "id": "e72b1b09",
   "metadata": {},
   "source": [
    "<h2>GOALS OF THIS PROJECT</h2>\n",
    "    <ol>\n",
    "    <li>Explain what Normal Distribution is.</li>\n",
    "    <li>Show how to use Numpy to generate numbers on a Normal Distribution.</li>\n",
    "    <li>Use matplotlib to generate plots to enhance your explanations.\n",
    "</li>\n",
    "</ol>"
   ]
  },
  {
   "cell_type": "markdown",
   "id": "bab49174",
   "metadata": {},
   "source": [
    "<h2 align = \"center\">1. WHAT IS NORMAL DISTRIBUTION</h2>"
   ]
  },
  {
   "cell_type": "markdown",
   "id": "41f2b41f",
   "metadata": {},
   "source": []
  },
  {
   "cell_type": "markdown",
   "id": "99009463",
   "metadata": {},
   "source": []
  },
  {
   "cell_type": "markdown",
   "id": "d3707769",
   "metadata": {},
   "source": []
  },
  {
   "cell_type": "markdown",
   "id": "e8d2699c",
   "metadata": {},
   "source": []
  },
  {
   "cell_type": "markdown",
   "id": "4eb170b9",
   "metadata": {},
   "source": [
    "<h2 align = \"center\">2. GENERATING NUMBERS ON NORMAL DISTRIBUTION WITH NUMPY</h2>"
   ]
  },
  {
   "cell_type": "markdown",
   "id": "1b1e480e",
   "metadata": {},
   "source": []
  },
  {
   "cell_type": "markdown",
   "id": "9c6d31fc",
   "metadata": {},
   "source": []
  },
  {
   "cell_type": "markdown",
   "id": "8a68d4db",
   "metadata": {},
   "source": []
  },
  {
   "cell_type": "markdown",
   "id": "365b6072",
   "metadata": {},
   "source": []
  },
  {
   "cell_type": "markdown",
   "id": "f6a187f2",
   "metadata": {},
   "source": [
    "<h2 align = \"center\">3. CREATING A PLOT WITH MATPLOTLIB</h2>"
   ]
  },
  {
   "cell_type": "markdown",
   "id": "5c1634df",
   "metadata": {},
   "source": []
  },
  {
   "cell_type": "markdown",
   "id": "a3500268",
   "metadata": {},
   "source": []
  },
  {
   "cell_type": "markdown",
   "id": "a1b35e63",
   "metadata": {},
   "source": []
  },
  {
   "cell_type": "markdown",
   "id": "9b3f5a71",
   "metadata": {},
   "source": []
  }
 ],
 "metadata": {
  "kernelspec": {
   "display_name": "Python 3 (ipykernel)",
   "language": "python",
   "name": "python3"
  },
  "language_info": {
   "codemirror_mode": {
    "name": "ipython",
    "version": 3
   },
   "file_extension": ".py",
   "mimetype": "text/x-python",
   "name": "python",
   "nbconvert_exporter": "python",
   "pygments_lexer": "ipython3",
   "version": "3.8.0"
  }
 },
 "nbformat": 4,
 "nbformat_minor": 5
}
