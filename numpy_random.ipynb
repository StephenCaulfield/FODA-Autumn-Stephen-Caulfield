{
 "cells": [
  {
   "cell_type": "markdown",
   "id": "bff238f7",
   "metadata": {},
   "source": [
    "<h1><b>FUNDAMENTALS OF DATA ANALYTICS PROJECT: NUMPY</b></h1>"
   ]
  },
  {
   "cell_type": "markdown",
   "id": "d0a2e0d2",
   "metadata": {},
   "source": [
    "<h2>WHAT IS NUMPY?</h2>"
   ]
  },
  {
   "cell_type": "markdown",
   "id": "4f540c47",
   "metadata": {},
   "source": [
    "<p><img src=\"https://www.freecodecamp.org/news/content/images/2020/07/numpy.png\" alt=\"Italian Trulli\" style=\"float:right;width:300px;height:140px;\">Numpy is a package used for scientific compuiting in Python. It provides methods to create multidimensional array objects, various derived objects such as masked arrays and matrices and various routines to make fast operations on arrays.\n",
    "</p>\n",
    "<p>At the core of the NumPy package, is the n-dimensional arrays object. These arrays encapsulate all types of homogenous data types with the operations performed in compiled code for performance."
   ]
  },
  {
   "cell_type": "markdown",
   "id": "9aaeae39",
   "metadata": {},
   "source": [
    "<h2>GOALS OF THIS PROJECT</h2>\n",
    "    <ol>\n",
    "    <li>show how numpy can be used to generate random numbers.</li>\n",
    "    <li>Explain how numpy does it, referring to numpy’s documentation.</li>\n",
    "    <li>Then explain how numpy can be used to simulate rolling a standard six-sided dice.\n",
    "</li>\n",
    "</ol>"
   ]
  },
  {
   "cell_type": "markdown",
   "id": "033c5a9c",
   "metadata": {},
   "source": [
    "<h2 align = \"center\">1. HOW TO GENERATE RANDOM NUMBERS USING NUMPY</h2>"
   ]
  },
  {
   "cell_type": "markdown",
   "id": "e03e6f28",
   "metadata": {},
   "source": [
    "First we will have to import the package"
   ]
  },
  {
   "cell_type": "code",
   "execution_count": 1,
   "id": "cc001a4c",
   "metadata": {},
   "outputs": [],
   "source": [
    "import numpy as np"
   ]
  },
  {
   "cell_type": "markdown",
   "id": "5521c640",
   "metadata": {},
   "source": [
    "<p>Numpy has a variety of ways to generate random numbers, but one way is using the method numpy.random. This Module implements a Pseudo Random Number Generator (The reason for it being \"Pseudo\" will be explained in section 2) with the ability to draw samples from a variety of probability distributions. The user will create a \"Generator\" instance with \"default_rng\" and call the various methods on it to obtain from different distributions.</p> "
   ]
  },
  {
   "cell_type": "markdown",
   "id": "fe644656",
   "metadata": {},
   "source": [
    "<h2 align = \"center\">2. HOW NUMPY GENERATES RANDOM NUMBERS</h2>"
   ]
  },
  {
   "cell_type": "markdown",
   "id": "4f32ebd4",
   "metadata": {},
   "source": []
  },
  {
   "cell_type": "markdown",
   "id": "df61488f",
   "metadata": {},
   "source": []
  },
  {
   "cell_type": "markdown",
   "id": "7c61571d",
   "metadata": {},
   "source": []
  },
  {
   "cell_type": "markdown",
   "id": "87cf75ee",
   "metadata": {},
   "source": []
  },
  {
   "cell_type": "markdown",
   "id": "23cbbdf9",
   "metadata": {},
   "source": [
    "<h2 align = \"center\">3. SIMULATING A DICE WITH NUMPY</h2>"
   ]
  },
  {
   "cell_type": "markdown",
   "id": "1cc72fa8",
   "metadata": {},
   "source": []
  },
  {
   "cell_type": "markdown",
   "id": "b3492dbc",
   "metadata": {},
   "source": []
  },
  {
   "cell_type": "markdown",
   "id": "4c5c9070",
   "metadata": {},
   "source": []
  },
  {
   "cell_type": "markdown",
   "id": "f10c57f5",
   "metadata": {},
   "source": []
  }
 ],
 "metadata": {
  "kernelspec": {
   "display_name": "Python 3 (ipykernel)",
   "language": "python",
   "name": "python3"
  },
  "language_info": {
   "codemirror_mode": {
    "name": "ipython",
    "version": 3
   },
   "file_extension": ".py",
   "mimetype": "text/x-python",
   "name": "python",
   "nbconvert_exporter": "python",
   "pygments_lexer": "ipython3",
   "version": "3.8.0"
  }
 },
 "nbformat": 4,
 "nbformat_minor": 5
}
