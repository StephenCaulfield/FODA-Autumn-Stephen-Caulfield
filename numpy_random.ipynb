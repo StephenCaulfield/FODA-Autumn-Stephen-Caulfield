{
 "cells": [
  {
   "cell_type": "markdown",
   "id": "bff238f7",
   "metadata": {},
   "source": [
    "<h1><b>FUNDAMENTALS OF DATA ANALYTICS PROJECT: NUMPY</b></h1>"
   ]
  },
  {
   "cell_type": "markdown",
   "id": "d0a2e0d2",
   "metadata": {},
   "source": [
    "<h2>WHAT IS NUMPY?</h2>"
   ]
  },
  {
   "cell_type": "markdown",
   "id": "4f540c47",
   "metadata": {},
   "source": [
    "<p><img src=\"https://www.freecodecamp.org/news/content/images/2020/07/numpy.png\" alt=\"Italian Trulli\" style=\"float:right;width:300px;height:140px;\">Numpy is a package used for scientific compuiting in Python. It provides methods to create multidimensional array objects, various derived objects such as masked arrays and matrices and various routines to make fast operations on arrays.\n",
    "</p>\n",
    "<p>At the core of the NumPy package, is the n-dimensional arrays object. These arrays encapsulate all types of homogenous data types with the operations performed in compiled code for performance."
   ]
  },
  {
   "cell_type": "markdown",
   "id": "9aaeae39",
   "metadata": {},
   "source": [
    "<h2>GOALS OF THIS PROJECT</h2>\n",
    "    <ol>\n",
    "    <li>show how numpy can be used to generate random numbers.</li>\n",
    "    <li>Explain how numpy does it, referring to numpy’s documentation.</li>\n",
    "    <li>Then explain how numpy can be used to simulate rolling a standard six-sided dice.\n",
    "</li>\n",
    "</ol>"
   ]
  },
  {
   "cell_type": "markdown",
   "id": "033c5a9c",
   "metadata": {},
   "source": [
    "<h2 align = \"center\">1. HOW TO GENERATE RANDOM NUMBERS USING NUMPY</h2>"
   ]
  },
  {
   "cell_type": "markdown",
   "id": "e03e6f28",
   "metadata": {},
   "source": [
    "First we will have to import the package"
   ]
  },
  {
   "cell_type": "code",
   "execution_count": 13,
   "id": "cc001a4c",
   "metadata": {},
   "outputs": [],
   "source": [
    "import numpy as np\n",
    "import matplotlib.pyplot as plt"
   ]
  },
  {
   "cell_type": "markdown",
   "id": "5521c640",
   "metadata": {},
   "source": [
    "<p>Numpy has a variety of ways to generate random numbers, but one way is using the method numpy.random. This Module implements a Pseudo Random Number Generator (The reason for it being \"Pseudo\" will be explained in section 2) with the ability to draw samples from a variety of probability distributions. We will create a \"Generator\" instance with \"default_rng\" and call the various methods on it to obtain from different distributions.</p> \n",
    "<p>The below piece of code will generate a random Float number in the range of 0 - 1</p>"
   ]
  },
  {
   "cell_type": "code",
   "execution_count": 14,
   "id": "8f8c2a87",
   "metadata": {},
   "outputs": [
    {
     "data": {
      "text/plain": [
       "0.5430274494190755"
      ]
     },
     "execution_count": 14,
     "metadata": {},
     "output_type": "execute_result"
    }
   ],
   "source": [
    "#Establishes Range of randomness in variable \"rng\"\n",
    "rng = np.random.default_rng()\n",
    "\n",
    "#Generates a single number using Variable \"rng\" parameters\n",
    "rng.random()  "
   ]
  },
  {
   "cell_type": "markdown",
   "id": "cff84064",
   "metadata": {},
   "source": [
    "<p>We can also create an array with additional parameters</p>\n",
    "<p>Below we generate a standard normal distribution of 10 numbers in an array using \"rng\" parameters.</p>"
   ]
  },
  {
   "cell_type": "code",
   "execution_count": 15,
   "id": "a25b3409",
   "metadata": {},
   "outputs": [
    {
     "data": {
      "text/plain": [
       "array([ 0.62278618, -0.15000203,  0.0216816 ,  1.36490424, -1.18146908,\n",
       "       -1.2524855 , -2.04509586,  0.77390166,  2.07537338, -0.27686079])"
      ]
     },
     "execution_count": 15,
     "metadata": {},
     "output_type": "execute_result"
    }
   ],
   "source": [
    "#Generate 10 numbers in array to standard normal distribution using \"rng\" parameters\n",
    "rng.standard_normal(10) "
   ]
  },
  {
   "cell_type": "markdown",
   "id": "1dd35a14",
   "metadata": {},
   "source": [
    "You can assign the results of these generators to a variable like so, I will also demonstrate generating integers in the range of 0-10 using the same \"rng\" variable:"
   ]
  },
  {
   "cell_type": "code",
   "execution_count": 16,
   "id": "b7bbbd5a",
   "metadata": {},
   "outputs": [
    {
     "data": {
      "text/plain": [
       "array([6, 4, 4, 6, 0], dtype=int64)"
      ]
     },
     "execution_count": 16,
     "metadata": {},
     "output_type": "execute_result"
    }
   ],
   "source": [
    "#Generate array of 5 integers in range of 0-10 using \"rng\" variable parameters\n",
    "rand_int = rng.integers(low=0, high=10, size=5)\n",
    "\n",
    "rand_int"
   ]
  },
  {
   "cell_type": "markdown",
   "id": "efec3d55",
   "metadata": {},
   "source": [
    "<p>In all instances, the numbers appear to be random within the parameters given, however they are not truly random as a computer cannot truly be random. Hence why it is called a <i>Pseudo</i> Random Number Generator.</p>\n",
    "<p>This is because you cannot produce a number randomly wherein no element has any consistent, rule based relationship to any other element(Through a computer program), therefore it would not be random.</p>\n",
    "<p>Computers can only imitate randomness by introducing inputs and factors that go beyond immediate human traceability such as the exact millisecond or tick an operation is made or obscuring the decision making process a computer performs. However, even this can be manipulated by human interference.</p>\n",
    "<p>A fascinating case study on this would be how the Pokemon game series \"randomness\" is taken advantage of.</p>"
   ]
  },
  {
   "cell_type": "markdown",
   "id": "fe644656",
   "metadata": {},
   "source": [
    "<h2 align = \"center\">2. HOW NUMPY GENERATES RANDOM NUMBERS</h2>"
   ]
  },
  {
   "cell_type": "markdown",
   "id": "4f32ebd4",
   "metadata": {},
   "source": [
    "<p>How Numpy generates random is through \"Seeds\". Seeds are an assortment of numbers that can be determined by a variety of different factors, including a systems hardware information, time, date or by a user or programs input.</p>\n",
    "<p>In the Previous Section we created a Generator with \"default_rng\" which could call various methods to obtain samples from different distributions(Float, Normal, Integer etc.).\n",
    "<p>Numpy's RNG's are deterministic sequences that can be reproduced by specifying seed integers, however since we did not provide a seed in default_rng in the cases in the previous section, Numpy will seed the RNG through non-deterministic data from  the Operating System(Windows, Mac, Linux etc.) So that it can produce a potentially unique output with every execution.</p>\n",
    "<p>Below, are two pieces of code with with two different variables, but with the same seed input to default_rng."
   ]
  },
  {
   "cell_type": "code",
   "execution_count": 17,
   "id": "d2c628e0",
   "metadata": {},
   "outputs": [
    {
     "data": {
      "text/plain": [
       "0.9766997666981422"
      ]
     },
     "execution_count": 17,
     "metadata": {},
     "output_type": "execute_result"
    }
   ],
   "source": [
    "#Variable rng1 with seed \"1234\"\n",
    "rng1 = np.random.default_rng(1234)\n",
    "\n",
    "rng1.random()\n"
   ]
  },
  {
   "cell_type": "code",
   "execution_count": 18,
   "id": "bbcf9ce3",
   "metadata": {},
   "outputs": [
    {
     "data": {
      "text/plain": [
       "0.9766997666981422"
      ]
     },
     "execution_count": 18,
     "metadata": {},
     "output_type": "execute_result"
    }
   ],
   "source": [
    "#Variable rng2 with seed \"1234\"\n",
    "rng2 = np.random.default_rng(1234)\n",
    "\n",
    "rng2.random()"
   ]
  },
  {
   "cell_type": "code",
   "execution_count": 19,
   "id": "2a238bf5",
   "metadata": {},
   "outputs": [
    {
     "data": {
      "text/plain": [
       "array([ 0.06409991,  0.7408913 ,  0.15261919,  0.86374389,  2.91309922,\n",
       "       -1.47882336,  0.94547297, -1.66613546,  0.34374458, -0.51244371])"
      ]
     },
     "execution_count": 19,
     "metadata": {},
     "output_type": "execute_result"
    }
   ],
   "source": [
    "rng1.standard_normal(10) "
   ]
  },
  {
   "cell_type": "code",
   "execution_count": 20,
   "id": "d319250b",
   "metadata": {},
   "outputs": [
    {
     "data": {
      "text/plain": [
       "array([ 0.06409991,  0.7408913 ,  0.15261919,  0.86374389,  2.91309922,\n",
       "       -1.47882336,  0.94547297, -1.66613546,  0.34374458, -0.51244371])"
      ]
     },
     "execution_count": 20,
     "metadata": {},
     "output_type": "execute_result"
    }
   ],
   "source": [
    "rng2.standard_normal(10) "
   ]
  },
  {
   "cell_type": "code",
   "execution_count": 21,
   "id": "d2aafc86",
   "metadata": {},
   "outputs": [
    {
     "data": {
      "text/plain": [
       "array([2, 6, 8, 8, 6], dtype=int64)"
      ]
     },
     "execution_count": 21,
     "metadata": {},
     "output_type": "execute_result"
    }
   ],
   "source": [
    "rand_int = rng1.integers(low=0, high=10, size=5)\n",
    "\n",
    "rand_int"
   ]
  },
  {
   "cell_type": "code",
   "execution_count": 22,
   "id": "be827662",
   "metadata": {},
   "outputs": [
    {
     "data": {
      "text/plain": [
       "array([2, 6, 8, 8, 6], dtype=int64)"
      ]
     },
     "execution_count": 22,
     "metadata": {},
     "output_type": "execute_result"
    }
   ],
   "source": [
    "rand_int = rng2.integers(low=0, high=10, size=5)\n",
    "\n",
    "rand_int"
   ]
  },
  {
   "cell_type": "markdown",
   "id": "9b7653ec",
   "metadata": {},
   "source": [
    "<p>As displayed above, both variables with the same seed produced the exact same results for each instance of randomisation. This is determistic sequencing as it is determined by the seed.</p>"
   ]
  },
  {
   "cell_type": "markdown",
   "id": "23cbbdf9",
   "metadata": {},
   "source": [
    "<h2 align = \"center\">3. SIMULATING A SIX-SIDED DICE WITH NUMPY</h2>"
   ]
  },
  {
   "cell_type": "markdown",
   "id": "1cc72fa8",
   "metadata": {},
   "source": [
    "A six-sided dice theoretically has an even chance(16.667%) of landing on each side. Initially, What someone would think would produce this phenomenom through Numpy would be the following."
   ]
  },
  {
   "cell_type": "code",
   "execution_count": 23,
   "id": "bf5c25f5",
   "metadata": {},
   "outputs": [
    {
     "data": {
      "text/plain": [
       "3"
      ]
     },
     "execution_count": 23,
     "metadata": {},
     "output_type": "execute_result"
    }
   ],
   "source": [
    "odds = np.random.default_rng()\n",
    "\n",
    "result = rng.integers(low=1, high=6)\n",
    "\n",
    "result"
   ]
  },
  {
   "cell_type": "markdown",
   "id": "4c5c9070",
   "metadata": {},
   "source": [
    "<p>However, the issue with this approach is that the randomness is non-deterministic. The chance that it would land on any one number could be any percentage for that execution. Even if a collection of results came out resembling an assortment of dice rolls, there is no definitive standard to determine that each result had an even percentage of happening.</p>\n",
    "<p>Instead we will use [random.choices] and [random.arange]. This lets us determine two things: The range of numbers that can be produced and the weighting(being the chance of an result produce in relation to each other result) of each result.</p>"
   ]
  },
  {
   "cell_type": "code",
   "execution_count": 41,
   "id": "861fb0fd",
   "metadata": {},
   "outputs": [
    {
     "data": {
      "image/png": "[encoded data removed]",
      "text/plain": [
       "<Figure size 640x480 with 1 Axes>"
      ]
     },
     "metadata": {},
     "output_type": "display_data"
    }
   ],
   "source": [
    "#The percentage chance for landing on each side of a dice\n",
    "odds = 0.1666666666666667\n",
    "die_rolls = []\n",
    "\n",
    "for i in range(100):\n",
    "    die_rolls.append(np.random.choice(np.arange(1, 7, 1), p = [odds, odds, odds, odds, odds, odds]))\n",
    "\n",
    "die_roll\n",
    "plt.hist(die_rolls)\n",
    "plt.show()"
   ]
  },
  {
   "cell_type": "markdown",
   "id": "647f37c7",
   "metadata": {},
   "source": [
    "<p>Above, I have demonstrated a simulation of a dice with deterministic chances for each value</p>"
   ]
  },
  {
   "cell_type": "markdown",
   "id": "167f4a98",
   "metadata": {},
   "source": [
    "<h2>REFERENCES</h2>\n",
    "\n",
    "1. Numpy(Random Generator):https://numpy.org/doc/stable/reference/random/generator.html\n",
    "2. Stackoverflow: https://stackoverflow.com/questions/54495590/how-to-simulate-roll-of-a-dice"
   ]
  }
 ],
 "metadata": {
  "kernelspec": {
   "display_name": "Python 3 (ipykernel)",
   "language": "python",
   "name": "python3"
  },
  "language_info": {
   "codemirror_mode": {
    "name": "ipython",
    "version": 3
   },
   "file_extension": ".py",
   "mimetype": "text/x-python",
   "name": "python",
   "nbconvert_exporter": "python",
   "pygments_lexer": "ipython3",
   "version": "3.8.0"
  }
 },
 "nbformat": 4,
 "nbformat_minor": 5
}
