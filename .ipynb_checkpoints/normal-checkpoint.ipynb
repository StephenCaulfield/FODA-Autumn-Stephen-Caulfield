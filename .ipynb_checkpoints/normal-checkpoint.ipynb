{
 "cells": [
  {
   "cell_type": "markdown",
   "id": "7ba2612d",
   "metadata": {},
   "source": [
    "<h1><b>FUNDAMENTALS OF DATA ANALYTICS PROJECT: NORMAL DISTRIBUTION</b></h1>"
   ]
  },
  {
   "cell_type": "markdown",
   "id": "e72b1b09",
   "metadata": {},
   "source": [
    "<h2>GOALS OF THIS PROJECT</h2>\n",
    "    <ol>\n",
    "    <li>Explain what Normal Distribution is.</li>\n",
    "    <li>Show how to use Numpy to generate numbers on a Normal Distribution.</li>\n",
    "    <li>Use matplotlib to generate plots to enhance your explanations.\n",
    "</li>\n",
    "</ol>"
   ]
  },
  {
   "cell_type": "markdown",
   "id": "bab49174",
   "metadata": {},
   "source": [
    "<h2 align = \"center\">1. WHAT IS NORMAL DISTRIBUTION</h2>"
   ]
  },
  {
   "cell_type": "markdown",
   "id": "41f2b41f",
   "metadata": {},
   "source": [
    "<img src=\"https://upload.wikimedia.org/wikipedia/commons/thumb/9/9b/Carl_Friedrich_Gauss.jpg/180px-Carl_Friedrich_Gauss.jpg\" alt=\"Italian Trulli\" style=\"float:right;width:170px;height:240px;\">\n",
    "<p>The Normal Distribution, also know as the Gaussian Distribution(Named after Carl Friedrich Gauss)or Bell Shaped Curve is most common form of continuous probability distribution. </p>\n",
    "<p>It is a function that that gives the probability that an event will fall between two number limits as the curve approaches zero on the side of the mean</p>\n",
    "<p>Typically, the Distribution takes the form of a Bell(Hence Bell Shaped Curve) as the Average Value is typically the most common result of any given statistic which falls in the middle of the Curve</p>\n",
    "<p>The distribution often found in nature with statistics like height, weight behaviour patterns etc.</p>\n",
    "<p>It is also found with many general statistical analyses such as IQ Tests and exam scores.</p>"
   ]
  },
  {
   "cell_type": "markdown",
   "id": "4eb170b9",
   "metadata": {},
   "source": [
    "<h2 align = \"center\">2. GENERATING NUMBERS ON NORMAL DISTRIBUTION WITH NUMPY</h2>"
   ]
  },
  {
   "cell_type": "markdown",
   "id": "b610f8df",
   "metadata": {},
   "source": [
    "First We need to import any packages required to create the distribution."
   ]
  },
  {
   "cell_type": "code",
   "execution_count": 2,
   "id": "1021cc52",
   "metadata": {},
   "outputs": [],
   "source": [
    "import matplotlib.pyplot as plt\n",
    "import numpy as np\n",
    "from scipy import stats as ss"
   ]
  },
  {
   "cell_type": "markdown",
   "id": "7455ae47",
   "metadata": {},
   "source": [
    "Below is the function in numpy for creating an array on numbers with a normal distribution."
   ]
  },
  {
   "cell_type": "code",
   "execution_count": 3,
   "id": "51cf7c97",
   "metadata": {},
   "outputs": [],
   "source": [
    "#Creating array of 500 Random integers with 0 as the average\n",
    "norm_dist = np.random.normal(loc=0, scale=1, size=10000)"
   ]
  },
  {
   "cell_type": "markdown",
   "id": "e5faa0ce",
   "metadata": {},
   "source": [
    "<p>Here I am using the random.normal function from the Numpy library which creates an array of numbers determined by three parameters:</p>\n",
    "<ul>\n",
    "    <li>loc: This is what you want the mean of the distribution to be, it will also be the point at which the curve is at its highest. I have set it to 0 so the array should contain both positive and negative numbers.</li>\n",
    "    <li>Scale: This is the spread that you want the numbers abide by. I have this set to 1 as I want the numbers to be whole integers.</li>\n",
    "    <li>Size: This just determines the amount of values in the array.</li>\n",
    "    </ul>\n",
    "    <p>This is how it is displayed on a graph using matplotlib."
   ]
  },
  {
   "cell_type": "markdown",
   "id": "f6a187f2",
   "metadata": {},
   "source": [
    "<h2 align = \"center\">3. CREATING A PLOT WITH MATPLOTLIB</h2>"
   ]
  },
  {
   "cell_type": "code",
   "execution_count": 10,
   "id": "6f3d09d3",
   "metadata": {},
   "outputs": [
    {
     "data": {
      "image/png": "[encoded data removed]",
      "text/plain": [
       "<Figure size 640x480 with 1 Axes>"
      ]
     },
     "metadata": {},
     "output_type": "display_data"
    }
   ],
   "source": [
    "x = ss.norm.rvs(size=10000)\n",
    "y = np.linspace(-4, 4, 1000)\n",
    "bin_width = (x.max() - x.min()) / 10000\n",
    "plt.hist(norm_dist, bins=100, alpha = 0.5)\n",
    "plt.plot(y, ss.norm.pdf(y) * 1000000 * bin_width)\n",
    "plt.show();"
   ]
  },
  {
   "cell_type": "markdown",
   "id": "8a68d4db",
   "metadata": {},
   "source": []
  },
  {
   "cell_type": "markdown",
   "id": "365b6072",
   "metadata": {},
   "source": []
  },
  {
   "cell_type": "markdown",
   "id": "5c1634df",
   "metadata": {},
   "source": []
  },
  {
   "cell_type": "markdown",
   "id": "a3500268",
   "metadata": {},
   "source": []
  },
  {
   "cell_type": "markdown",
   "id": "a1b35e63",
   "metadata": {},
   "source": []
  },
  {
   "cell_type": "markdown",
   "id": "9b3f5a71",
   "metadata": {},
   "source": []
  }
 ],
 "metadata": {
  "kernelspec": {
   "display_name": "Python 3 (ipykernel)",
   "language": "python",
   "name": "python3"
  },
  "language_info": {
   "codemirror_mode": {
    "name": "ipython",
    "version": 3
   },
   "file_extension": ".py",
   "mimetype": "text/x-python",
   "name": "python",
   "nbconvert_exporter": "python",
   "pygments_lexer": "ipython3",
   "version": "3.8.0"
  }
 },
 "nbformat": 4,
 "nbformat_minor": 5
}
